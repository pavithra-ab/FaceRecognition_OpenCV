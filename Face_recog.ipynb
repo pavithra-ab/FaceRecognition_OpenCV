{
 "cells": [
  {
   "cell_type": "code",
   "execution_count": 1,
   "metadata": {},
   "outputs": [],
   "source": [
    "import cv2"
   ]
  },
  {
   "cell_type": "code",
   "execution_count": 2,
   "metadata": {},
   "outputs": [],
   "source": [
    "#function for assigning class labels\n",
    "\n",
    "def name_map(x):\n",
    "    if x == \"sachin\": #folder name\n",
    "        return 0\n",
    "    if x == \"obama\":\n",
    "        return 1\n",
    "    if x == 'messi':\n",
    "        return 2"
   ]
  },
  {
   "cell_type": "code",
   "execution_count": 4,
   "metadata": {},
   "outputs": [],
   "source": [
    "#to get the actual name\n",
    "\n",
    "def get_name(x):\n",
    "    if x == 0:\n",
    "        return 'sachin'\n",
    "    if x == 1:\n",
    "        return 'obama'\n",
    "    if x == 2:\n",
    "        return 'messi'\n"
   ]
  },
  {
   "cell_type": "code",
   "execution_count": 5,
   "metadata": {},
   "outputs": [],
   "source": [
    "#detect faces from img- region of ineterst(roi)\n",
    "\n",
    "def detect_face(img):\n",
    "    gray = cv2.cvtColor(img, cv2.COLOR_BGR2GRAY)\n",
    "    face_cascade = cv2.CascadeClassifier(r'F:\\DL Projects\\Face_Recognition\\haarcascade_frontalface_default.xml')\n",
    "    face = face_cascade.detectMultiScale(gray, scaleFactor=1.1, minNeighbors=4)\n",
    "\n",
    "    if len(face) == 0: #if no face is detected\n",
    "        return None, None #this func actually returns 2 values\n",
    "    #in all these img we have only one face\n",
    "    #using slicing method extract only face\n",
    "    x,y,w,h = face[0]\n",
    "    return gray[x:x+w,y:y+h],face[0]"
   ]
  },
  {
   "cell_type": "code",
   "execution_count": 6,
   "metadata": {},
   "outputs": [],
   "source": [
    "import os"
   ]
  },
  {
   "cell_type": "code",
   "execution_count": 7,
   "metadata": {},
   "outputs": [],
   "source": [
    "#preparing train data\n",
    "\n",
    "def prepare_training_data(data_folder_path):\n",
    "    dirs = os.listdir(data_folder_path) #to find subfolders\n",
    "    #print(dirs)\n",
    "    faces = [] #to store faces\n",
    "    labels = [] #pass labels\n",
    "    for dir_name in dirs:\n",
    "        sub_dir_path = data_folder_path+'/'+dir_name #other slash wont work\n",
    "        #print(sub_dir_path)\n",
    "        image_names = os.listdir(sub_dir_path)\n",
    "        #print(image_names)\n",
    "        for img_name in image_names:\n",
    "            img_path = sub_dir_path+'/'+img_name\n",
    "            #print(img_path)\n",
    "\n",
    "            #display\n",
    "\n",
    "            img = cv2.imread(img_path)\n",
    "            cv2.imshow(\"Training Image\", img)\n",
    "            cv2.waitKey(10) #after 10ms new pic comes\n",
    "            \n",
    "            \n",
    "            #detect face from every img\n",
    "            #use the fun\n",
    "            face, rect = detect_face(img)\n",
    "            if face is not None:\n",
    "                faces.append(face)\n",
    "                labels.append(name_map(dir_name))\n",
    "\n",
    "\n",
    "\n",
    "\n",
    "    cv2.waitKey(1) #after all pics wait 1 ms then destroy the window\n",
    "    cv2.destroyAllWindows()\n",
    "    return faces, labels\n",
    "\n",
    "        \n"
   ]
  },
  {
   "cell_type": "code",
   "execution_count": 8,
   "metadata": {},
   "outputs": [
    {
     "name": "stdout",
     "output_type": "stream",
     "text": [
      "[2, 2, 2, 2, 2, 2, 2, 2, 2, 2, 1, 1, 1, 1, 1, 1, 1, 1, 1, 1, 0, 0, 0, 0, 0, 0, 0, 0, 0]\n"
     ]
    }
   ],
   "source": [
    "path = r\"F:\\DL Projects\\Face_Recognition\\DB\"\n",
    "faces, labels = prepare_training_data(path)\n",
    "print(labels)"
   ]
  },
  {
   "cell_type": "code",
   "execution_count": 9,
   "metadata": {},
   "outputs": [
    {
     "data": {
      "text/plain": [
       "29"
      ]
     },
     "execution_count": 9,
     "metadata": {},
     "output_type": "execute_result"
    }
   ],
   "source": [
    "len(labels)"
   ]
  },
  {
   "cell_type": "code",
   "execution_count": 10,
   "metadata": {},
   "outputs": [
    {
     "data": {
      "text/plain": [
       "29"
      ]
     },
     "execution_count": 10,
     "metadata": {},
     "output_type": "execute_result"
    }
   ],
   "source": [
    "len(faces)"
   ]
  },
  {
   "cell_type": "markdown",
   "metadata": {},
   "source": [
    "from one sachin img face is not detected. "
   ]
  },
  {
   "cell_type": "code",
   "execution_count": 11,
   "metadata": {},
   "outputs": [
    {
     "data": {
      "text/plain": [
       "< cv2.face.LBPHFaceRecognizer 0000007FBB71BB90>"
      ]
     },
     "execution_count": 11,
     "metadata": {},
     "output_type": "execute_result"
    }
   ],
   "source": [
    "#face recognize\n",
    "recognizer = cv2.face.LBPHFaceRecognizer_create()\n",
    "recognizer"
   ]
  },
  {
   "cell_type": "code",
   "execution_count": 12,
   "metadata": {},
   "outputs": [],
   "source": [
    "import numpy as np\n",
    "recognizer.train(faces, np.array(labels)) #convert labels to array"
   ]
  },
  {
   "cell_type": "code",
   "execution_count": 13,
   "metadata": {},
   "outputs": [],
   "source": [
    "#draw rect\n",
    "\n",
    "def draw_rectangle(img,rect):\n",
    "    (x,y,w,h) = rect\n",
    "    cv2.rectangle(img, (x,y), (x+w,y+h), (233,231,123), 3)\n",
    "    "
   ]
  },
  {
   "cell_type": "code",
   "execution_count": 14,
   "metadata": {},
   "outputs": [],
   "source": [
    "def write_text(img, text, x,y):\n",
    "    cv2.putText(img, text, (x,y), cv2.FONT_HERSHEY_COMPLEX, 1, (0,255,255), 2)"
   ]
  },
  {
   "cell_type": "code",
   "execution_count": 15,
   "metadata": {},
   "outputs": [],
   "source": [
    "def predict_new(test_img): #to predict a new img\n",
    "    img = test_img.copy()\n",
    "    face, rect = detect_face(img)\n",
    "    label = recognizer.predict(face)\n",
    "    label_text = get_name(label[0])\n",
    "    draw_rectangle(img,rect)\n",
    "    write_text(img,label_text,rect[0],rect[1])\n",
    "    return img\n"
   ]
  },
  {
   "cell_type": "code",
   "execution_count": 16,
   "metadata": {},
   "outputs": [
    {
     "data": {
      "text/plain": [
       "array([[[ 24,  33,  83],\n",
       "        [ 15,  27,  81],\n",
       "        [ 16,  31,  93],\n",
       "        ...,\n",
       "        [ 20,  27, 100],\n",
       "        [ 25,  32, 105],\n",
       "        [ 40,  44, 127]],\n",
       "\n",
       "       [[ 28,  32,  83],\n",
       "        [ 19,  26,  81],\n",
       "        [ 18,  31,  93],\n",
       "        ...,\n",
       "        [ 20,  27, 100],\n",
       "        [ 25,  32, 105],\n",
       "        [ 40,  44, 127]],\n",
       "\n",
       "       [[ 34,  32,  84],\n",
       "        [ 24,  25,  81],\n",
       "        [ 22,  29,  92],\n",
       "        ...,\n",
       "        [ 20,  27, 100],\n",
       "        [ 25,  32, 105],\n",
       "        [ 40,  44, 127]],\n",
       "\n",
       "       ...,\n",
       "\n",
       "       [[174, 174, 204],\n",
       "        [167, 169, 193],\n",
       "        [180, 183, 198],\n",
       "        ...,\n",
       "        [ 19,  15,  26],\n",
       "        [ 14,   8,  19],\n",
       "        [ 26,  20,  31]],\n",
       "\n",
       "       [[133, 133, 169],\n",
       "        [161, 162, 190],\n",
       "        [188, 191, 206],\n",
       "        ...,\n",
       "        [ 30,  16,  17],\n",
       "        [ 32,  16,  17],\n",
       "        [ 33,  17,  18]],\n",
       "\n",
       "       [[130, 129, 168],\n",
       "        [156, 158, 188],\n",
       "        [186, 189, 204],\n",
       "        ...,\n",
       "        [ 37,  17,  12],\n",
       "        [ 37,  17,  12],\n",
       "        [ 38,  18,  13]]], dtype=uint8)"
      ]
     },
     "execution_count": 16,
     "metadata": {},
     "output_type": "execute_result"
    }
   ],
   "source": [
    "test_img = cv2.imread(r\"F:\\DL Projects\\Face_Recognition\\obama.jpg\")\n",
    "test_img"
   ]
  },
  {
   "cell_type": "code",
   "execution_count": 17,
   "metadata": {},
   "outputs": [],
   "source": [
    "predicted = predict_new(test_img)\n",
    " #2nd value is the confidence, we dont need that\n",
    "cv2.imshow(\"Predicted Image\",predicted)\n",
    "cv2.waitKey()\n",
    "cv2.destroyAllWindows()"
   ]
  }
 ],
 "metadata": {
  "kernelspec": {
   "display_name": "Python 3",
   "language": "python",
   "name": "python3"
  },
  "language_info": {
   "codemirror_mode": {
    "name": "ipython",
    "version": 3
   },
   "file_extension": ".py",
   "mimetype": "text/x-python",
   "name": "python",
   "nbconvert_exporter": "python",
   "pygments_lexer": "ipython3",
   "version": "3.11.2"
  },
  "orig_nbformat": 4
 },
 "nbformat": 4,
 "nbformat_minor": 2
}
